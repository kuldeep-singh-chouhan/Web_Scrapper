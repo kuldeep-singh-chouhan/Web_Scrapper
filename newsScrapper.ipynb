{
  "cells": [
    {
      "cell_type": "code",
      "execution_count": 137,
      "metadata": {
        "id": "qOZgBNrsIHGt"
      },
      "outputs": [],
      "source": [
        "import requests\n",
        "import re\n",
        "from bs4 import BeautifulSoup\n"
      ]
    },
    {
      "cell_type": "code",
      "execution_count": 41,
      "metadata": {
        "id": "WkLScTS6IfDd"
      },
      "outputs": [],
      "source": [
        "faculty = \"https://www.cse.iitk.ac.in/pages/Faculty.html\"\n",
        "res = requests.get(faculty)\n",
        "soup = BeautifulSoup(res.content, 'html.parser')"
      ]
    },
    {
      "cell_type": "code",
      "source": [
        ""
      ],
      "metadata": {
        "id": "BU0amCXMRHPG"
      },
      "execution_count": null,
      "outputs": []
    },
    {
      "cell_type": "code",
      "source": [
        "def update (str):\n",
        "  str = re.split('\\n',str)\n",
        "  newlst = [x for x in str if x != '']\n",
        "\n",
        "  name = \"\"\n",
        "  userid = \"\"\n",
        "  flag = 0;\n",
        "  for c in newlst[0]:\n",
        "    if( c=='(' or c==')'):\n",
        "      flag = 1\n",
        "      continue;\n",
        "    if(flag == 1):\n",
        "      userid  = userid + c\n",
        "      #print(userid)\n",
        "      #print(c)\n",
        "    if(flag == 0):\n",
        "      name  = name + c \n",
        "  #print(newlst)  \n",
        "  newlst.pop(0)\n",
        "\n",
        "  newlst.insert(0, userid)\n",
        "  newlst.insert(0,name)\n",
        "  \n",
        "  for item in newlst:\n",
        "    item = item.strip()\n",
        "  print(newlst)"
      ],
      "metadata": {
        "id": "3_tyTOCqMOwv"
      },
      "execution_count": 160,
      "outputs": []
    },
    {
      "cell_type": "code",
      "execution_count": 161,
      "metadata": {
        "colab": {
          "base_uri": "https://localhost:8080/"
        },
        "id": "1BvG92XBJNsI",
        "outputId": "dea2e840-54dc-43f8-db5c-9ec0785f056b"
      },
      "outputs": [
        {
          "output_type": "stream",
          "name": "stdout",
          "text": [
            "['Amey Karkare ', 'karkare', 'Professor', ' +91 (512) 259/679-7520', ' RM-401', 'Compilers, Functional Programming, Program Analysis & Code Optimization, Programming Languages and Education']\n",
            "['Amitangshu Pal ', 'amitangshu', 'Assistant Professor', ' +91 (512) 259/679-2236', ' KD-203', 'Wireless and Sensor Networks, Sensing and Communication for Internet of Things (IoTs) and Building IoT Solutions for Smart Cities']\n",
            "['Anil Seth ', 'seth', 'Professor', ' +91 (512) 259/679-7231', ' KD-204', 'Logic']\n",
            "['Arnab Bhattacharya ', 'arnabb', 'Professor', ' +91 (512) 259/679-7650', ' RM-409', 'Databases, Data Mining, Information Retrieval, Natural Language Processing and Artificial Intelligence']\n",
            "['Ashutosh Modi ', 'ashutoshm', 'Assistant Professor', ' +91 (512) 259/679-2131', ' RM-503', 'Natural Language Processing, Machine Learning and Affective Computing']\n",
            "['Debadatta Mishra ', 'deba', 'Assistant Professor', ' +91 (512) 259/679-2004', ' KD-212', 'Operating Systems, Virtualization and Cloud Computing and Computer Networks']\n",
            "['Debapriya Basu Roy ', 'dbroy', 'Assistant Professor', ' +91 (512) 259/679-2250', ' KD-319', 'Hardware Security, VLSI for Cryptography and Post Quantum Cryptography']\n",
            "['Hamim Zafar ', 'hamim', 'Assistant Professor', ' +91 (512) 259/679-2054', ' KD-219', 'Computational Biology, Machine Learning and Bioinformatics']\n",
            "['Indranil Saha ', 'isaha', 'Associate Professor', 'P. K. Kelkar Faculty Fellow', ' +91 (512) 259/679-6343', ' RM-408', 'Application of formal methods to embedded and cyberphysical systems and Robotics']\n",
            "['Jithin K Sreedharan ', 'jithin', 'Assistant Professor', ' +91 (512) 259/679-2295', ' KD-201', 'Graph Mining, Machine Learning and AI for Social Good']\n",
            "['Mainak Chaudhuri ', 'mainakc', 'Professor', ' +91 (512) 259/679-7890', ' KD-211', 'Computer Hardware and Architecture']\n",
            "['Manindra Agrawal ', 'manindra', 'Professor', ' +91 (512) 259/679-7338', ' C3iIstFloor-4', 'Computational Complexity Theory, Security, Theoretical Computer Science and Algorithms']\n",
            "['Nisheeth Srivastava ', 'nsrivast', 'Associate Professor', 'Class of 1973 Young Faculty Fellow', ' +91 (512) 259/679-7916', ' KD-303', 'Human Factors in Computing, Computational Cognitive Science and Computational Social Science']\n",
            "['Nitin Saxena ', 'nitin', 'Professor', 'N Rama Rao Chair Professor', ' +91 (512) 259/679-7588', ' RM-203', 'Computational Complexity Theory, Algebra, Algebraic Geometry, Theoretical Computer Science and Algorithms']\n",
            "['Piyush Rai ', 'piyush', 'Associate Professor', 'P. K. Kelkar Faculty Fellow', ' +91 (512) 259/679-6894', ' RM-502', 'Machine Learning and Bayesian Statistics']\n",
            "['Preeti Malakar ', 'pmalakar', 'Assistant Professor', ' +91 (512) 259/679-2024', ' KD-221', 'High Performance Computing, Scalable Parallel Communication and Workflow Optimization']\n",
            "['Priyanka Bagade ', 'pbagade', 'Assistant Professor', ' +91 (512) 259/679-2206', ' KD-306', 'Internet of things, Sensors, Mobile Computing and Deep Learning']\n",
            "['Purushottam Kar ', 'purushot', 'Associate Professor', ' +91 (512) 259/679-6370', ' RM-509', 'Optimization, Statistical Learning Theory and Machine Learning']\n",
            "['Raghunath Tewari ', 'rtewari', 'Associate Professor', ' +91 (512) 259/679-7174', ' RM-514', 'Computational Complexity Theory, Graph Theory, Theoretical Computer Science and Computational Geometry']\n",
            "['Rajat Mittal ', 'rmittal', 'Associate Professor', ' +91 (512) 259/679-6210', ' RM-202', 'Computational Complexity and Quantum Computing and Semidefinite Programming']\n",
            "['Rajat Moona ', 'moona', 'Professor', ' KD-320', ' [On Deputation: Director, IIT Bhilai]', 'Computer Hardware and Architecture, VLSI Design, , Embedded Computing, VLSI Testing and Operating Systems']\n",
            "['Sandeep Kumar Shukla ', 'sandeeps', 'Professor', 'Poonam and Prabhu Goel Chair Professor and Dr. Deep Singh and Daljeet Kaur Faculty Fellow-I', ' +91 (512) 259/679-2123', ' C3iIstFloor-3', 'Application of formal methods to embedded and cyberphysical systems and Embedded Computing']\n",
            "['Sanjeev Saxena ', 'ssax', 'Professor', ' +91 (512) 259/679-7611', ' KD-226', 'Parallel Processing, VLSI, Data Structures, Algorithms, Heuristics, Graph Theory and Computational Geometry']\n",
            "['Satyadev Nandakumar ', 'satyadev', 'Associate Professor', ' +91 (512) 259/679-7619', ' KD-312', ' [On Long Leave ]', 'Theoretical Computer Science, Algorithmic Information Theory and Computible Analysis']\n",
            "['Subhajit Roy ', 'subhajit', 'Associate Professor', ' +91 (512) 259/679-7585', ' RM-402', 'Formal Methods, Artificial Intelligence, Software Engineering, Programming Languages and Compiler Optimization']\n",
            "['Sumit Ganguly ', 'sganguly', 'Professor', ' +91 (512) 259/679-7597', ' KD-313', 'Databases, Data Streaming and Algorithms']\n",
            "['Sunil Simon ', 'simon', 'Associate Professor', ' +91 (512) 259/679-6212', ' KD-206', 'Game Theory, Distributed Systems and Temporal Logics and Verification']\n",
            "['Surender Baswana ', 'sbaswana', 'Professor', ' +91 (512) 259/679-6074', ' KD-307', 'Graph Algorithms, Dynamic Algorithms and Randomized Algorithms and Algorithms']\n",
            "['Sutanu Gayen ', 'sutanu', 'Assistant Professor', ' +91 (512) 259/679-2276', ' KD-207', 'Foundations of Machine Learning and Probabilistic Algorithms']\n",
            "['Swarnendu Biswas ', 'swarnendu', 'Assistant Professor', ' +91 (512) 259/679-2055', ' KD-302', 'Programming Languages, Compilers, Program Analysis, Software systems and High Performance Computing']\n",
            "['Urbi Chatterjee ', 'urbic', 'Assistant Professor', ' +91 (512) 259/679-2211', ' KD-219', 'Hardware Security, Physically Unclonable Functions, Secure Authentication Protocols Design and Internet of Things Security']\n",
            "['T. V. Prabhakar ', 'tvp', 'Professor', ' +91 (512) 259/679-7618', 'Software Architecture, Knowledge Engineering, Software Engineering, Internet of things, Education']\n",
            "['Arvind Verma ', 'arvindcjus', 'Visiting Faculty']\n",
            "['Gaurav Sharma ', 'grv', 'Visiting Faculty', 'Computer Vision, Face Image Analysis, Visual Analytics, Machine Learning and Deep Learning']\n",
            "['Nisheeth K Vishnoi ', 'nisheethkv', 'Visiting Faculty', ' +91 (512) 259/679-7614', 'Theoretical Computer Science, Optimization, Machine Learning, Natural Algorithms and Societal and Humanistic Aspects of Computation']\n",
            "['Ponnurangam Kumaraguru ', 'pk', 'Visiting Faculty']\n",
            "['Prateek Jain ', 'pjain', 'Visiting Faculty']\n"
          ]
        }
      ],
      "source": [
        "headlines = soup.find_all('div',{'class':'col-md-9 team-w3ls-txt'})\n",
        "len(headlines)\n",
        "\n",
        "for i in range(len(headlines)):\n",
        "  str = headlines[i].text\n",
        "  update(str)\n",
        "  "
      ]
    }
  ],
  "metadata": {
    "colab": {
      "collapsed_sections": [],
      "name": "newsScrapper.ipynb",
      "provenance": []
    },
    "kernelspec": {
      "display_name": "Python 3",
      "name": "python3"
    },
    "language_info": {
      "name": "python"
    }
  },
  "nbformat": 4,
  "nbformat_minor": 0
}